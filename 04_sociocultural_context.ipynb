{
 "cells": [
  {
   "cell_type": "markdown",
   "metadata": {},
   "source": [
    "# Socio-cultural context\n",
    "\n",
    "This section has the code which shows how CLOCR-C uses socio-cultural context"
   ]
  },
  {
   "cell_type": "code",
   "execution_count": 2,
   "metadata": {},
   "outputs": [],
   "source": [
    "#import config  # Import your config.py file this contains you openai api key\n",
    "import pandas as pd\n",
    "import numpy as np\n",
    "import os\n",
    "from llm_comparison_toolkit import RateLimiter, get_response_openai,  create_config_dict_func, use_df_to_call_llm_api\n",
    "from evaluate import load\n",
    "from evaluation_funcs import evaluate_correction_performance, evaluate_correction_performance_folders, get_metric_error_reduction, evaluate_ocr_dataframe, calculate_metrics\n",
    "import seaborn as sns\n",
    "import matplotlib.pyplot as plt\n",
    "from helper_functions import files_to_df_func, repeat_prompt_experiment, files_to_df_core_func, process_jokes_context\n",
    "#from transformers import AutoTokenizer, AutoModelForTokenClassification\n",
    "#from transformers import pipeline\n",
    "import re\n",
    "from openai import OpenAI\n",
    "import itertools\n",
    "import tiktoken\n",
    "import time\n",
    "save_figs = os.getenv(\"save_figs\")\n",
    "\n",
    "wer = load(\"wer\")\n",
    "cer = load(\"cer\")\n",
    "client = OpenAI()\n",
    "\n",
    "\n",
    "dev_data_folder = 'data/dev_data'\n",
    "dev_transcripts = os.path.join(dev_data_folder, 'dev_data_transcript')\n",
    "dev_raw_ocr_folder =  os.path.join(dev_data_folder,'dev_raw_ocr' )\n",
    "dev_system_message_folder = os.path.join(dev_data_folder,'dev_system_message_variants' )\n",
    "\n",
    "#Overproof\n",
    "overproof_folder = 'data/overproof'\n",
    "\n",
    "smh_folder =  os.path.join(overproof_folder, 'SMH')\n",
    "smh_articles_raw = os.path.join(smh_folder, 'line_level', 'line_raw')\n",
    "smh_articles_transcribed = os.path.join(smh_folder, 'article_level', 'corrected') #in the dataset they are reffered to as corrected but this clashes with my naming convention\n",
    "smh_articles_results = os.path.join(smh_folder, 'results')\n",
    "\n",
    "\n",
    "# sociocultural test\n",
    "socio_cultural_folder = \"data/socio_cultural\"\n",
    "socio_cultural_results_folder = os.path.join(socio_cultural_folder, \"results\")\n",
    "socio_cultural_evals = os.path.join(socio_cultural_folder, \"evals\")\n",
    "\n",
    "#load the dev and test sets for prompt development and selection\n",
    "dev_data_df = pd.read_csv(os.path.join(dev_data_folder,'dev_data_raw.csv'))\n",
    "\n",
    "\n",
    "\n",
    "#for saving data to be used in the socio cultural\n",
    "if not os.path.exists(socio_cultural_results_folder):\n",
    "    os.makedirs(socio_cultural_results_folder)\n",
    "\n",
    "if not os.path.exists(socio_cultural_evals):\n",
    "    os.makedirs(socio_cultural_evals)"
   ]
  },
  {
   "cell_type": "markdown",
   "metadata": {},
   "source": [
    "# Demonstrating context leveraging\n",
    "\n",
    "The below texts can be used to demonstrate that LMs use context leveraging and that they can self-contextualise from the task itself. The words in the parenthesis are optional contxt\n",
    "\n",
    "\"\"\"Please correct the below sentences containing OCR errors\n",
    "\n",
    "My dog has no ***\n",
    "\n",
    "*** did *** **** cross ***\"\"\""
   ]
  },
  {
   "cell_type": "code",
   "execution_count": 93,
   "metadata": {},
   "outputs": [],
   "source": [
    "prompt_combined_joke =f\"\"\"Please correct the below sentence containing OCR errors.\n",
    "Sentence 1:\n",
    "{dog_nose}\n",
    "Sentence 2:\n",
    "{dog_nose2}\n",
    "\"\"\""
   ]
  },
  {
   "cell_type": "code",
   "execution_count": 25,
   "metadata": {},
   "outputs": [
    {
     "data": {
      "text/plain": [
       "'Please correct the below sentence containing OCR errors\\n\\nSentence 1:\\nMy dog has ***  ***\\n'"
      ]
     },
     "execution_count": 25,
     "metadata": {},
     "output_type": "execute_result"
    }
   ],
   "source": [
    "prompt_combined_joke"
   ]
  },
  {
   "cell_type": "code",
   "execution_count": 97,
   "metadata": {},
   "outputs": [
    {
     "data": {
      "text/plain": [
       "'Sentence 1:\\nMy dog has a wet nose.\\n\\nSentence 2:\\nHow does he smell?\\nTerrible!'"
      ]
     },
     "execution_count": 97,
     "metadata": {},
     "output_type": "execute_result"
    }
   ],
   "source": [
    "\n",
    "\n",
    "\n",
    "response = get_response_openai(prompt_combined_joke,\n",
    "\"\", RateLimiter(40000), \n",
    "engine=\"gpt-4-turbo-preview\", \n",
    "max_tokens = 500,\n",
    ")\n",
    "\n",
    "response\n"
   ]
  },
  {
   "cell_type": "code",
   "execution_count": 104,
   "metadata": {},
   "outputs": [],
   "source": [
    "\n",
    "dog_nose = \"\"\"My dog *** *** nose. \n",
    "How *** he ***? \"\"\"\n",
    "\n",
    "dog_nose = \"\"\"My dog has ***  nose\"\"\"\n",
    "\n",
    "dog_nose2 = \"\"\"How does he ***?\\n Terribele!\"\"\"\n",
    "#dog_nose = \"\"\"My dog *** *** nose\"\"\"\n",
    "\n",
    "#dog_nose = \"\"\"My *** has no ***\"\"\"\n",
    "\n",
    "#chicken_cross = \"*** did *** *** cross ***\"\n",
    "\n",
    "#chicken_cross = \"Why did the *** *** *** ***\"\n",
    "\n",
    "chicken_cross = \"\"\"why did the *** *** *** ***\"\"\"\n",
    "\n",
    "chicken_cross2 = \"\"\"*** *** *** *** other side\"\"\"\n",
    "\n",
    "\n",
    "prompt_dog =f\"\"\"Please correct the below sentences containing OCR errors.\n",
    "\n",
    "{dog_nose}\n",
    "\n",
    "\"\"\"\n",
    "\n",
    "prompt_dog_joke =f\"\"\"Please correct the below sentences containing OCR errors, the sentence is part of a popular joke.\n",
    "\n",
    "{dog_nose}\n",
    "\n",
    "\"\"\"\n",
    "\n",
    "prompt_dog_mislead =f\"\"\"Please correct the below sentences containing OCR errors, the sentence is part of an article on cookery.\n",
    "\n",
    "{dog_nose2}\n",
    "\n",
    "\"\"\"\n",
    "\n",
    "\n",
    "prompt_dog2 =f\"\"\"Please correct the below sentences containing OCR errors.\n",
    "\n",
    "{dog_nose2}\n",
    "\n",
    "\"\"\"\n",
    "\n",
    "prompt_dog2_joke =f\"\"\"Please correct the below sentences containing OCR errors, the sentence is part of a popular joke.\n",
    "\n",
    "{dog_nose2}\n",
    "\n",
    "\"\"\"\n",
    "\n",
    "prompt_dog2_mislead =f\"\"\"Please correct the below sentences containing OCR errors, the sentence is part of an article on cookery.\n",
    "\n",
    "{dog_nose2}\n",
    "\n",
    "\"\"\"\n",
    "\n",
    "check_prompt_dog = \"\"\"The below text surrounded by triple colons is the response of a language model to a task, did it correctly identify the sentence 'my dog has no nose', Answer 1 or 0\n",
    ":::\n",
    "{answer}\n",
    ":::\n",
    "\n",
    "\"\"\"\n",
    "\n",
    "\n",
    "\n",
    "prompt_full_dog =f\"\"\"Please correct the below two sentences containing OCR errors\n",
    "\n",
    "Sentence 1:\n",
    "{dog_nose}\n",
    "\n",
    "Sentence 2:\n",
    "{dog_nose2}\n",
    "\"\"\"\n",
    "\n",
    "prompt_full_dog_joke =f\"\"\"Please correct the below two sentences containing OCR errors, the sentences are part of popular jokes\n",
    "\n",
    "Sentence 1:\n",
    "{dog_nose}\n",
    "\n",
    "Sentence 2:\n",
    "{dog_nose2}\n",
    "\"\"\"\n",
    "\n",
    "prompt_full_dog_mislead =f\"\"\"Please correct the below two sentences containing OCR errors, the sentence is part of an article on cookery\n",
    "\n",
    "Sentence 1:\n",
    "{dog_nose}\n",
    "\n",
    "Sentence 2:\n",
    "{dog_nose2}\n",
    "\"\"\"\n",
    "\n",
    "\n",
    "\n",
    "prompt_chicken =f\"\"\"Please correct the below sentence containing OCR errors\n",
    "\n",
    "{chicken_cross}\n",
    "\n",
    "\"\"\"\n",
    "\n",
    "prompt_chicken_joke =f\"\"\"Please correct the below sentence containing OCR errors, the sentence is part of a popular joke\n",
    "\n",
    "{chicken_cross}\n",
    "\n",
    "\"\"\"\n",
    "\n",
    "prompt_chicken_mislead =f\"\"\"Please correct the below sentence containing OCR errors, the sentence is part of an article on cookery\n",
    "\n",
    "{chicken_cross}\n",
    "\n",
    "\"\"\"\n",
    "\n",
    "check_prompt_chicken = \"\"\"The below text surrounded by triple colons is the response of a language model to a task, did it correctly identify the sentence 'why did the chicken cross the road', Answer 1 or 0\n",
    ":::\n",
    "{answer}\n",
    ":::\n",
    "\n",
    "\"\"\"\n",
    "\n",
    "prompt_chicken2 =f\"\"\"Please correct the below sentences containing OCR errors\n",
    "\n",
    "{chicken_cross2}\n",
    "\n",
    "\"\"\"\n",
    "\n",
    "prompt_chicken2_joke =f\"\"\"Please correct the below sentences containing OCR errors, the sentences are part of popular jokes\n",
    "\n",
    "{chicken_cross2}\n",
    "\n",
    "\"\"\"\n",
    "\n",
    "prompt_chicken2_mislead =f\"\"\"Please correct the below sentences containing OCR errors, the sentences are part of an article on cookery\n",
    "\n",
    "{chicken_cross2}\n",
    "\n",
    "\"\"\"\n",
    "\n",
    "\n",
    "prompt_combined =f\"\"\"Please correct the below two sentences containing OCR errors\n",
    "\n",
    "Sentence 1:\n",
    "{dog_nose}\n",
    "\n",
    "Sentence 2:\n",
    "{chicken_cross}\n",
    "\"\"\"\n",
    "\n",
    "prompt_combined_joke =f\"\"\"Please correct the below two sentences containing OCR errors, the sentences are part of popular jokes\n",
    "\n",
    "Sentence 1:\n",
    "{dog_nose}\n",
    "\n",
    "Sentence 2:\n",
    "{chicken_cross}\n",
    "\"\"\"\n",
    "\n",
    "prompt_combined_mislead =f\"\"\"Please correct the below two sentences containing OCR errors, the sentence is part of an article on cookery\n",
    "\n",
    "Sentence 1:\n",
    "{dog_nose}\n",
    "\n",
    "Sentence 2:\n",
    "{chicken_cross}\n",
    "\"\"\"\n",
    "#remove two\n",
    "prompt_full_chicken =f\"\"\"Please correct the below sentences containing OCR errors\n",
    "\n",
    "\n",
    "{chicken_cross}\n",
    "\n",
    "{chicken_cross2}\n",
    "\"\"\"\n",
    "\n",
    "prompt_full_chicken_joke =f\"\"\"Please correct the below sentences containing OCR errors, the sentences are part of popular jokes\n",
    "\n",
    "\n",
    "{chicken_cross}\n",
    "\n",
    "{chicken_cross2}\n",
    "\"\"\"\n",
    "\n",
    "prompt_full_chicken_mislead =f\"\"\"Please correct the below sentences containing OCR errors, the sentences are part of an article on cookery\n",
    "\n",
    "\n",
    "{chicken_cross}\n",
    "\n",
    "{chicken_cross2}\n",
    "\"\"\"\n",
    "\n",
    "check_combined = \"\"\"The below text surrounded by triple colons is the response of a language model to a task, did it correctly identify both the sentences 'my dog has no nose' and 'why did the chicken cross the road', Answer 1 if both identified or 0 otherwise\n",
    ":::\n",
    "{answer}\n",
    ":::\n",
    "\n",
    "\"\"\"\n"
   ]
  },
  {
   "cell_type": "code",
   "execution_count": 58,
   "metadata": {},
   "outputs": [
    {
     "data": {
      "text/plain": [
       "'To correct the sentence containing OCR errors, I would need the original text or at least a description of what the sentence is supposed to convey. OCR (Optical Character Recognition) errors can result in missing or incorrect characters and words, making it challenging to correct without additional context. Could you please provide more details or the intended message of the sentence?'"
      ]
     },
     "execution_count": 58,
     "metadata": {},
     "output_type": "execute_result"
    }
   ],
   "source": [
    "messages = [\n",
    "    {\"role\": \"system\", \"content\": \"\"},\n",
    "    {\"role\": \"user\", \"content\": prompt_chicken}\n",
    "]\n",
    "\n",
    "response = client.chat.completions.create(\n",
    "    model = \"gpt-4-turbo-preview\",\n",
    "    messages = messages,\n",
    "    max_tokens = 500, \n",
    "    temperature = 0.2,\n",
    "    logprobs=True#,\n",
    "    # top_p = 0.9,\n",
    ")\n",
    "#get the log probability for each token\n",
    "logprobs = [token.logprob for token in response.choices[0].logprobs.content]\n",
    "\n",
    "answer = response.choices[0].message.content\n",
    "\n",
    "answer"
   ]
  },
  {
   "cell_type": "code",
   "execution_count": 16,
   "metadata": {},
   "outputs": [
    {
     "name": "stdout",
     "output_type": "stream",
     "text": [
      "Processed joke: dog with context basic in 50.57 seconds\n",
      "Processed joke: dog with context true in 48.33 seconds\n",
      "Processed joke: dog with context mislead in 49.66 seconds\n",
      "Processed joke: chicken with context basic in 49.15 seconds\n",
      "Processed joke: chicken with context true in 54.58 seconds\n",
      "Processed joke: chicken with context mislead in 49.13 seconds\n",
      "Processed joke: combined with context basic in 75.80 seconds\n",
      "Processed joke: combined with context true in 72.29 seconds\n",
      "Processed joke: combined with context mislead in 75.47 seconds\n"
     ]
    }
   ],
   "source": [
    "context_check = pd.DataFrame([\n",
    "             {'prompt': prompt_dog, 'check':check_prompt_dog, 'context':'basic', 'joke':'dog', 'sentence': dog_nose },\n",
    "             {'prompt': prompt_dog_joke, 'check':check_prompt_dog, 'context':'true', 'joke':'dog', 'sentence': dog_nose  },\n",
    "             {'prompt': prompt_dog_mislead, 'check':check_prompt_dog, 'context':'mislead', 'joke':'dog', 'sentence': dog_nose  },\n",
    "             {'prompt': prompt_chicken, 'check':check_prompt_chicken, 'context':'basic', 'joke':'chicken', 'sentence': chicken_cross },\n",
    "             {'prompt': prompt_chicken_joke, 'check':check_prompt_chicken, 'context':'true', 'joke':'chicken' , 'sentence': chicken_cross},\n",
    "             {'prompt': prompt_chicken_mislead, 'check':check_prompt_chicken, 'context':'mislead', 'joke':'chicken', 'sentence': chicken_cross },\n",
    "             {'prompt': prompt_combined, 'check':check_combined, 'context':'basic', 'joke':'combined', 'sentence': dog_nose + \"\\n\"+chicken_cross },\n",
    "             {'prompt': prompt_combined_joke, 'check':check_combined, 'context':'true', 'joke':'combined', 'sentence': dog_nose + \"\\n\"+chicken_cross  },\n",
    "             {'prompt': prompt_combined_mislead, 'check':check_combined, 'context':'mislead', 'joke':'combined', 'sentence': dog_nose + \"\\n\"+chicken_cross  }\n",
    "            ])\n",
    "\n"
   ]
  },
  {
   "cell_type": "code",
   "execution_count": 105,
   "metadata": {},
   "outputs": [
    {
     "name": "stdout",
     "output_type": "stream",
     "text": [
      "Processed joke: setup with context basic in 128.00 seconds\n",
      "Processed joke: setup with context true in 95.13 seconds\n",
      "Processed joke: setup with context mislead in 211.10 seconds\n"
     ]
    },
    {
     "name": "stderr",
     "output_type": "stream",
     "text": [
      "/home/jonno/clocrc/helper_functions.py:486: RuntimeWarning: overflow encountered in exp\n",
      "  'perplexity':np.exp(-np.mean(logprobs)),\n"
     ]
    },
    {
     "name": "stdout",
     "output_type": "stream",
     "text": [
      "Processed joke: punchline with context basic in 121.12 seconds\n",
      "Processed joke: punchline with context true in 105.54 seconds\n",
      "Processed joke: punchline with context mislead in 296.14 seconds\n",
      "Processed joke: combined with context basic in 94.32 seconds\n",
      "Processed joke: combined with context true in 99.84 seconds\n",
      "Processed joke: combined with context mislead in 157.59 seconds\n"
     ]
    }
   ],
   "source": [
    "context_check = pd.DataFrame([\n",
    "             {'prompt': prompt_chicken, 'check':check_prompt_chicken, 'context':'basic', 'joke':'setup', 'sentence': chicken_cross },\n",
    "             {'prompt': prompt_chicken_joke, 'check':check_prompt_chicken, 'context':'true', 'joke':'setup' , 'sentence': chicken_cross},\n",
    "             {'prompt': prompt_chicken_mislead, 'check':check_prompt_chicken, 'context':'mislead', 'joke':'setup', 'sentence': chicken_cross },\n",
    "             {'prompt': prompt_chicken2, 'check':check_prompt_chicken, 'context':'basic', 'joke':'punchline', 'sentence': chicken_cross2 },\n",
    "             {'prompt': prompt_chicken2_joke, 'check':check_prompt_chicken, 'context':'true', 'joke':'punchline' , 'sentence': chicken_cross2},\n",
    "             {'prompt': prompt_chicken2_mislead, 'check':check_prompt_chicken, 'context':'mislead', 'joke':'punchline', 'sentence': chicken_cross2 },\n",
    "             {'prompt': prompt_full_chicken, 'check':check_combined, 'context':'basic', 'joke':'combined', 'sentence': chicken_cross + \"\\n\"+chicken_cross2 },\n",
    "             {'prompt': prompt_full_chicken_joke, 'check':check_combined, 'context':'true', 'joke':'combined', 'sentence': chicken_cross + \"\\n\"+chicken_cross2  },\n",
    "             {'prompt': prompt_full_chicken_mislead, 'check':check_combined, 'context':'mislead', 'joke':'combined', 'sentence': chicken_cross + \"\\n\"+chicken_cross2  }\n",
    "            ])\n",
    "\n",
    "process_jokes_context(context_check,os.path.join(\"data\", \"socio_cultural\",'chicken_80'), temperature=0.8 )"
   ]
  },
  {
   "cell_type": "code",
   "execution_count": 46,
   "metadata": {},
   "outputs": [
    {
     "name": "stdout",
     "output_type": "stream",
     "text": [
      "Created directory: data/socio_cultural/dog_80\n",
      "Processed joke: setup with context basic in 76.06 seconds\n",
      "Processed joke: setup with context true in 71.88 seconds\n",
      "Processed joke: setup with context mislead in 83.15 seconds\n",
      "Processed joke: punchline with context basic in 77.72 seconds\n",
      "Processed joke: punchline with context true in 80.99 seconds\n",
      "Processed joke: punchline with context mislead in 79.77 seconds\n",
      "Processed joke: combined with context basic in 127.43 seconds\n",
      "Processed joke: combined with context true in 125.30 seconds\n",
      "Processed joke: combined with context mislead in 133.95 seconds\n"
     ]
    }
   ],
   "source": [
    "context_check = pd.DataFrame([\n",
    "             {'prompt': prompt_dog, 'check':check_prompt_dog, 'context':'basic', 'joke':'setup', 'sentence': dog_nose },\n",
    "             {'prompt': prompt_dog_joke, 'check':check_prompt_dog, 'context':'true', 'joke':'setup' , 'sentence': dog_nose},\n",
    "             {'prompt': prompt_dog_mislead, 'check':check_prompt_dog, 'context':'mislead', 'joke':'setup', 'sentence': dog_nose },\n",
    "             {'prompt': prompt_dog2, 'check':check_prompt_dog, 'context':'basic', 'joke':'punchline', 'sentence': dog_nose2 },\n",
    "             {'prompt': prompt_dog2_joke, 'check':check_prompt_dog, 'context':'true', 'joke':'punchline' , 'sentence': dog_nose2},\n",
    "             {'prompt': prompt_dog2_mislead, 'check':check_prompt_dog, 'context':'mislead', 'joke':'punchline', 'sentence': dog_nose2 },\n",
    "             {'prompt': prompt_full_dog, 'check':check_combined, 'context':'basic', 'joke':'combined', 'sentence': dog_nose + \"\\n\"+dog_nose2 },\n",
    "             {'prompt': prompt_full_dog_joke, 'check':check_combined, 'context':'true', 'joke':'combined', 'sentence': dog_nose + \"\\n\"+dog_nose2  },\n",
    "             {'prompt': prompt_full_dog_mislead, 'check':check_combined, 'context':'mislead', 'joke':'combined', 'sentence': dog_nose + \"\\n\"+dog_nose2  }\n",
    "            ])\n",
    "\n",
    "process_jokes_context(context_check,os.path.join(\"data\", \"socio_cultural\",'dog_80'), temperature=0.8 )"
   ]
  },
  {
   "cell_type": "markdown",
   "metadata": {},
   "source": [
    "# Spoofing and **T**ask **I**nduced **I**n **C**ontext **L**earning\n",
    "\n",
    "This section performs the test of how the amount of text and the prompt given interact."
   ]
  },
  {
   "cell_type": "code",
   "execution_count": 16,
   "metadata": {},
   "outputs": [],
   "source": [
    "def split_rows(df, x):\n",
    "    new_rows = []\n",
    "    \n",
    "    for _, row in df.iterrows():\n",
    "        content_lines = row['content'].split('\\n')\n",
    "        num_groups = len(content_lines) // x\n",
    "        \n",
    "        for i in range(num_groups):\n",
    "            start_row = i * x\n",
    "            end_row = (i + 1) * x\n",
    "            group_lines = content_lines[start_row:end_row]\n",
    "            \n",
    "            new_row = {\n",
    "                'file_name': row['file_name'],\n",
    "                'content': '\\n'.join(group_lines),\n",
    "                'start_row': start_row,\n",
    "                'end_row': end_row\n",
    "            }\n",
    "            new_rows.append(new_row)\n",
    "    \n",
    "    new_df = pd.DataFrame(new_rows)\n",
    "    new_df['content'] = new_df['content'].str.replace(\"-\\n\", \"\").str.replace(\"\\n\", \" \")\n",
    "    new_df['id2'] = new_df['file_name'].str.replace(\".txt\", \"\")\n",
    "    new_df['id'] = new_df['id2'] + \"_lines_\" + new_df['start_row'].astype(str) + \"_\" + new_df['end_row'].astype(str) \n",
    "    new_df['file_name'] = new_df['id'] + \".txt\" \n",
    "    return new_df"
   ]
  },
  {
   "cell_type": "code",
   "execution_count": 17,
   "metadata": {},
   "outputs": [],
   "source": [
    "prompt_smh = \"{content}\"+f\"\"\" \\n \\n \"\"\" + f\"\"\"You are an expert in post-OCR correction of documents. Using the context available from the text please recover the most likely original text from the corrupted OCR. Do not add any text, commentary, or lead in sentences beyond the recovered text. Do not add a title, or any introductions.\"\"\"\n",
    "context_prompt_smh = \"{content}\"+f\"\"\" \\n \\n \"\"\" + f\"\"\"You are an expert in post-OCR correction of documents. Using the context available from the text please recover the most likely original text from the corrupted OCR. Do not add any text, commentary, or lead in sentences beyond the recovered text. Do not add a title, or any introductions. The text is from The Sydney Morning Herald 1842 -1950. \"\"\"\n",
    "spoof_prompt_smh = \"{content}\"+f\"\"\" \\n \\n \"\"\" + f\"\"\"You are an expert in post-OCR correction of documents. Using the context available from the text please recover the most likely original text from the corrupted OCR. Do not add any text, commentary, or lead in sentences beyond the recovered text. Do not add a title, or any introductions. The text is from The Hong Kong Restaurant Review 1989-1993. \"\"\"\n",
    "\n",
    "\n"
   ]
  },
  {
   "cell_type": "code",
   "execution_count": 18,
   "metadata": {},
   "outputs": [],
   "source": [
    "enc = tiktoken.encoding_for_model(\"gpt-3.5-turbo\") "
   ]
  },
  {
   "cell_type": "code",
   "execution_count": 19,
   "metadata": {},
   "outputs": [],
   "source": [
    "prompt_dict = {'prompt':[prompt_smh, context_prompt_smh, spoof_prompt_smh],\n",
    " 'response_name':['basic', 'context', 'spoof']\n",
    " }\n",
    "\n",
    "\n",
    "socio_list = [\n",
    "    create_config_dict_func(\n",
    "        get_response_func=get_response_openai,\n",
    "        rate_limiter=RateLimiter(160e3),\n",
    "        engine=\"gpt-4-turbo-preview\",#'gpt-3.5-turbo',\n",
    "        system_message_template=\"\",\n",
    "        prompt_template=prompt_dict['prompt'][num],\n",
    "        additional_args={\"response_name\": prompt_dict['response_name'][num]} ## will be added to in the loop\n",
    "    )\n",
    "    for num in  [0,1,2]\n",
    "]\n"
   ]
  },
  {
   "cell_type": "code",
   "execution_count": 20,
   "metadata": {},
   "outputs": [],
   "source": [
    "\n",
    "max_article_rows = 60\n",
    "\n",
    "raw_article_ocr_df= files_to_df_core_func(\"data/overproof/SMH/article_level/raw\")\n",
    "\n",
    "# Filter the DataFrame to keep rows with at least 50 line breaks\n",
    "raw_article_ocr_df = raw_article_ocr_df[raw_article_ocr_df['content'].str.count('\\n') >= max_article_rows]\n",
    "\n",
    "# Split the 'content' column into a list of lines and take the first 50 lines\n",
    "raw_article_ocr_df['content'] = raw_article_ocr_df['content'].apply(lambda x: '\\n'.join(x.split('\\n')[:max_article_rows]))\n",
    "\n"
   ]
  },
  {
   "cell_type": "code",
   "execution_count": 21,
   "metadata": {},
   "outputs": [],
   "source": [
    "number_lines_list =[60, 30, 15, 10, 5, 2]  #[1, 2, 3, 4, 5, 6, 10, 12, 15, 20, 30, 60]\n",
    "\n",
    "for config, group_size in itertools.product(socio_list, number_lines_list ):\n",
    "\n",
    "    temporary_df = split_rows(raw_article_ocr_df, group_size)\n",
    "\n",
    "    response_name = config['response_name'] + \"_\" + str(group_size)\n",
    "\n",
    "    use_df_to_call_llm_api(config, temporary_df, response_name , folder_path= os.path.join(socio_cultural_results_folder ))"
   ]
  },
  {
   "cell_type": "code",
   "execution_count": 22,
   "metadata": {},
   "outputs": [],
   "source": [
    "#load transcribed data\n",
    "\n",
    "transcr_article_ocr_df= files_to_df_core_func(smh_articles_transcribed)\n",
    "\n",
    "# Filter the DataFrame to keep rows with at least 50 line breaks\n",
    "transcr_article_ocr_df = transcr_article_ocr_df[transcr_article_ocr_df['content'].str.count('\\n') >= max_article_rows]\n",
    "\n",
    "# Split the 'content' column into a list of lines and take the first 50 lines\n",
    "transcr_article_ocr_df['content'] = transcr_article_ocr_df['content'].apply(lambda x: '\\n'.join(x.split('\\n')[:max_article_rows]))\n",
    "\n",
    "transcr_article_ocr_df['content']  = transcr_article_ocr_df['content'].str.replace(\"-\\n\", \"\").str.replace(\"\\n\", \" \")\n",
    "\n",
    "transcr_article_ocr_df['id'] = transcr_article_ocr_df['file_name'].str.replace(\".txt\", \"\")\n",
    "\n",
    "transcr_article_ocr_df.drop(columns='file_name', inplace=True)"
   ]
  },
  {
   "cell_type": "code",
   "execution_count": 23,
   "metadata": {},
   "outputs": [
    {
     "data": {
      "text/plain": [
       "'data/socio_cultural/results'"
      ]
     },
     "execution_count": 23,
     "metadata": {},
     "output_type": "execute_result"
    }
   ],
   "source": [
    "socio_cultural_results_folder"
   ]
  },
  {
   "cell_type": "code",
   "execution_count": 106,
   "metadata": {},
   "outputs": [
    {
     "data": {
      "text/plain": [
       "'data/socio_cultural/results'"
      ]
     },
     "execution_count": 106,
     "metadata": {},
     "output_type": "execute_result"
    }
   ],
   "source": [
    "socio_cultural_results_folder"
   ]
  },
  {
   "cell_type": "code",
   "execution_count": 24,
   "metadata": {},
   "outputs": [
    {
     "name": "stdout",
     "output_type": "stream",
     "text": [
      "folder:context_10_gpt-4-turbo-preview, lines agg:10\n",
      "folder:basic_15_gpt-4-turbo-preview, lines agg:15\n",
      "folder:basic_2_gpt-4-turbo-preview, lines agg:2\n",
      "folder:spoof_10_gpt-4-turbo-preview, lines agg:10\n",
      "folder:basic_10_gpt-4-turbo-preview, lines agg:10\n",
      "folder:spoof_2_gpt-4-turbo-preview, lines agg:2\n",
      "folder:context_5_gpt-4-turbo-preview, lines agg:5\n",
      "folder:context_2_gpt-4-turbo-preview, lines agg:2\n",
      "folder:context_60_gpt-4-turbo-preview, lines agg:60\n",
      "folder:spoof_60_gpt-4-turbo-preview, lines agg:60\n",
      "folder:context_30_gpt-4-turbo-preview, lines agg:30\n",
      "folder:spoof_5_gpt-4-turbo-preview, lines agg:5\n",
      "folder:spoof_15_gpt-4-turbo-preview, lines agg:15\n",
      "folder:basic_5_gpt-4-turbo-preview, lines agg:5\n",
      "folder:basic_30_gpt-4-turbo-preview, lines agg:30\n",
      "folder:basic_60_gpt-4-turbo-preview, lines agg:60\n",
      "folder:context_15_gpt-4-turbo-preview, lines agg:15\n",
      "folder:spoof_30_gpt-4-turbo-preview, lines agg:30\n"
     ]
    }
   ],
   "source": [
    "# go through all the folders and get the performance\n",
    "\n",
    "performance_vs_lines = []\n",
    "\n",
    "over_folder = socio_cultural_results_folder#+\"_v2\"\n",
    "\n",
    "\n",
    "for folder in os.listdir(over_folder):\n",
    "    agg_num =  int(re.search(r'_(\\d+)_', folder).group(1))\n",
    "    print(f\"folder:{folder}, lines agg:{agg_num}\")\n",
    "\n",
    "\n",
    "    lm_corrected_temp = files_to_df_core_func(os.path.join(over_folder, folder))\n",
    "\n",
    "    lm_corrected_temp['id'] = lm_corrected_temp['file_name'].str.extract(r'(.+)_lines_')[0]\n",
    "    lm_corrected_temp['order'] = lm_corrected_temp['file_name'].str.extract(r'_lines_(\\d+)')[0].astype(int)\n",
    "\n",
    "    # Group by the grouping key and aggregate the content based on the order\n",
    "    lm_corrected_temp = lm_corrected_temp.groupby('id')[['order', 'content']].apply(lambda x: ' '.join(x.sort_values('order')['content']))\n",
    "\n",
    "    # Reset the index to get the grouping key as a regular column\n",
    "    lm_corrected_temp = lm_corrected_temp.reset_index(name='content').reset_index(drop = True).rename(columns={0:'content'})\n",
    "\n",
    "    #merge together\n",
    "    current_article_set = transcr_article_ocr_df.merge(lm_corrected_temp, left_on='id', right_on = 'id', suffixes=['_transcr', '_lm'])\n",
    "\n",
    "    metric_df = pd.concat([calculate_metrics(row['id'], row['content_lm'].lower(), row['content_transcr'].lower(), wer, cer) for _, row in current_article_set.iterrows()]).drop(columns='File Name')\n",
    "\n",
    "    current_article_set.loc[:, ['WER', 'CER', 'lev_dist']] = metric_df[['WER', 'CER', 'lev_dist']].reset_index()\n",
    "\n",
    "    result_df = metric_df.agg(['mean', 'median'])\n",
    "\n",
    "    result_df['average'] = ['mean', 'median']\n",
    "\n",
    "    result_df['lines'] = agg_num\n",
    "    result_df['type'] = folder\n",
    "\n",
    "    current_article_set['lines'] = agg_num\n",
    "    current_article_set['type'] = folder\n",
    "\n",
    "    current_article_set.to_csv(os.path.join(socio_cultural_evals, folder+\".csv\"))\n",
    "\n",
    "    performance_vs_lines.append(result_df)\n",
    "\n",
    "performance_vs_lines = pd.concat(performance_vs_lines, ignore_index=True)\n",
    "\n",
    "performance_vs_lines['type'] =  performance_vs_lines['type'].str.split(\"_\").str.get(0)"
   ]
  },
  {
   "cell_type": "code",
   "execution_count": 25,
   "metadata": {},
   "outputs": [
    {
     "name": "stderr",
     "output_type": "stream",
     "text": [
      "2024-05-11 22:13:15 matplotlib.category INFO: Using categorical units to plot a list of strings that are all parsable as floats or dates. If these strings should be plotted as numbers, cast to the appropriate data type before plotting.\n",
      "2024-05-11 22:13:15 matplotlib.category INFO: Using categorical units to plot a list of strings that are all parsable as floats or dates. If these strings should be plotted as numbers, cast to the appropriate data type before plotting.\n"
     ]
    },
    {
     "data": {
      "image/png": "[encoded data removed]",
      "text/plain": [
       "<Figure size 640x480 with 1 Axes>"
      ]
     },
     "metadata": {},
     "output_type": "display_data"
    }
   ],
   "source": [
    "temp_plot = performance_vs_lines.loc[(performance_vs_lines['average']=='median')].copy()\n",
    "temp_plot['type'] = temp_plot['type'].str.replace(\"spoof\", 'untrue')\n",
    "temp_plot['lines'] = temp_plot['lines'].astype(int)\n",
    "\n",
    "temp_plot['type'] = np.where(temp_plot['type']==\"untrue\", \"mislead\", temp_plot['type'])\n",
    "#temp_plot = temp_plot.loc[temp_plot['type']!='mislead']\n",
    "\n",
    "sns.barplot(data =temp_plot, x = 'lines', y = 'CER', hue = 'type', hue_order = ['mislead', 'basic', 'context'])\n",
    "plt.title('Exploring the impact of task length and context')\n",
    "plt.xlabel('Number of text lines per task')\n",
    "plt.ylabel('Median CER')\n",
    "plt.savefig(os.path.join(save_figs,\"performance_vs_lines.pdf\"))\n",
    "plt.show()"
   ]
  },
  {
   "cell_type": "code",
   "execution_count": 26,
   "metadata": {},
   "outputs": [
    {
     "name": "stderr",
     "output_type": "stream",
     "text": [
      "2024-05-11 22:13:15 matplotlib.category INFO: Using categorical units to plot a list of strings that are all parsable as floats or dates. If these strings should be plotted as numbers, cast to the appropriate data type before plotting.\n",
      "2024-05-11 22:13:15 matplotlib.category INFO: Using categorical units to plot a list of strings that are all parsable as floats or dates. If these strings should be plotted as numbers, cast to the appropriate data type before plotting.\n"
     ]
    },
    {
     "data": {
      "image/png": "[encoded data removed]",
      "text/plain": [
       "<Figure size 640x480 with 1 Axes>"
      ]
     },
     "metadata": {},
     "output_type": "display_data"
    }
   ],
   "source": [
    "temp_plot = performance_vs_lines.loc[(performance_vs_lines['average']=='median')].copy()\n",
    "temp_plot['type'] = temp_plot['type'].str.replace(\"spoof\", 'untrue')\n",
    "temp_plot['lines'] = temp_plot['lines'].astype(int)\n",
    "\n",
    "temp_plot['type'] = np.where(temp_plot['type']==\"untrue\", \"mislead\", temp_plot['type'])\n",
    "temp_plot = temp_plot.loc[temp_plot['type']!='mislead']\n",
    "\n",
    "sns.barplot(data =temp_plot, x = 'lines', y = 'CER', hue = 'type', hue_order = ['mislead', 'basic', 'context'])\n",
    "plt.title('Exploring the impact of task length and context')\n",
    "plt.xlabel('Number of text lines per task')\n",
    "plt.ylabel('Median CER')\n",
    "#plt.savefig(os.path.join(save_figs,\"performance_vs_lines.pdf\"))\n",
    "plt.show()"
   ]
  },
  {
   "cell_type": "markdown",
   "metadata": {},
   "source": []
  }
 ],
 "metadata": {
  "kernelspec": {
   "display_name": ".venv",
   "language": "python",
   "name": "python3"
  },
  "language_info": {
   "codemirror_mode": {
    "name": "ipython",
    "version": 3
   },
   "file_extension": ".py",
   "mimetype": "text/x-python",
   "name": "python",
   "nbconvert_exporter": "python",
   "pygments_lexer": "ipython3",
   "version": "3.12.3"
  }
 },
 "nbformat": 4,
 "nbformat_minor": 2
}
